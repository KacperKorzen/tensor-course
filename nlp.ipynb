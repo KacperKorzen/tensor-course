{
 "cells": [
  {
   "cell_type": "markdown",
   "metadata": {},
   "source": [
    "# NLP"
   ]
  },
  {
   "cell_type": "code",
   "execution_count": 2,
   "metadata": {},
   "outputs": [],
   "source": [
    "# import library\n",
    "import tensorflow as tf\n",
    "import numpy as np\n",
    "import matplotlib.pyplot as plt\n",
    "import pandas as pd\n",
    "import helper_function as hf"
   ]
  },
  {
   "cell_type": "markdown",
   "metadata": {},
   "source": [
    "## Preprocessing data"
   ]
  },
  {
   "cell_type": "code",
   "execution_count": 7,
   "metadata": {},
   "outputs": [
    {
     "data": {
      "text/html": [
       "<div>\n",
       "<style scoped>\n",
       "    .dataframe tbody tr th:only-of-type {\n",
       "        vertical-align: middle;\n",
       "    }\n",
       "\n",
       "    .dataframe tbody tr th {\n",
       "        vertical-align: top;\n",
       "    }\n",
       "\n",
       "    .dataframe thead th {\n",
       "        text-align: right;\n",
       "    }\n",
       "</style>\n",
       "<table border=\"1\" class=\"dataframe\">\n",
       "  <thead>\n",
       "    <tr style=\"text-align: right;\">\n",
       "      <th></th>\n",
       "      <th>id</th>\n",
       "      <th>keyword</th>\n",
       "      <th>location</th>\n",
       "      <th>text</th>\n",
       "      <th>target</th>\n",
       "    </tr>\n",
       "  </thead>\n",
       "  <tbody>\n",
       "    <tr>\n",
       "      <th>0</th>\n",
       "      <td>1</td>\n",
       "      <td>NaN</td>\n",
       "      <td>NaN</td>\n",
       "      <td>Our Deeds are the Reason of this #earthquake M...</td>\n",
       "      <td>1</td>\n",
       "    </tr>\n",
       "    <tr>\n",
       "      <th>1</th>\n",
       "      <td>4</td>\n",
       "      <td>NaN</td>\n",
       "      <td>NaN</td>\n",
       "      <td>Forest fire near La Ronge Sask. Canada</td>\n",
       "      <td>1</td>\n",
       "    </tr>\n",
       "    <tr>\n",
       "      <th>2</th>\n",
       "      <td>5</td>\n",
       "      <td>NaN</td>\n",
       "      <td>NaN</td>\n",
       "      <td>All residents asked to 'shelter in place' are ...</td>\n",
       "      <td>1</td>\n",
       "    </tr>\n",
       "    <tr>\n",
       "      <th>3</th>\n",
       "      <td>6</td>\n",
       "      <td>NaN</td>\n",
       "      <td>NaN</td>\n",
       "      <td>13,000 people receive #wildfires evacuation or...</td>\n",
       "      <td>1</td>\n",
       "    </tr>\n",
       "    <tr>\n",
       "      <th>4</th>\n",
       "      <td>7</td>\n",
       "      <td>NaN</td>\n",
       "      <td>NaN</td>\n",
       "      <td>Just got sent this photo from Ruby #Alaska as ...</td>\n",
       "      <td>1</td>\n",
       "    </tr>\n",
       "  </tbody>\n",
       "</table>\n",
       "</div>"
      ],
      "text/plain": [
       "   id keyword location                                               text  \\\n",
       "0   1     NaN      NaN  Our Deeds are the Reason of this #earthquake M...   \n",
       "1   4     NaN      NaN             Forest fire near La Ronge Sask. Canada   \n",
       "2   5     NaN      NaN  All residents asked to 'shelter in place' are ...   \n",
       "3   6     NaN      NaN  13,000 people receive #wildfires evacuation or...   \n",
       "4   7     NaN      NaN  Just got sent this photo from Ruby #Alaska as ...   \n",
       "\n",
       "   target  \n",
       "0       1  \n",
       "1       1  \n",
       "2       1  \n",
       "3       1  \n",
       "4       1  "
      ]
     },
     "execution_count": 7,
     "metadata": {},
     "output_type": "execute_result"
    }
   ],
   "source": [
    "# load and visualizing a text data\n",
    "train = pd.read_csv(\"nlp-getting-started/train.csv\")\n",
    "test = pd.read_csv(\"nlp-getting-started/test.csv\")\n",
    "train.head()"
   ]
  },
  {
   "cell_type": "code",
   "execution_count": 8,
   "metadata": {},
   "outputs": [
    {
     "data": {
      "text/html": [
       "<div>\n",
       "<style scoped>\n",
       "    .dataframe tbody tr th:only-of-type {\n",
       "        vertical-align: middle;\n",
       "    }\n",
       "\n",
       "    .dataframe tbody tr th {\n",
       "        vertical-align: top;\n",
       "    }\n",
       "\n",
       "    .dataframe thead th {\n",
       "        text-align: right;\n",
       "    }\n",
       "</style>\n",
       "<table border=\"1\" class=\"dataframe\">\n",
       "  <thead>\n",
       "    <tr style=\"text-align: right;\">\n",
       "      <th></th>\n",
       "      <th>id</th>\n",
       "      <th>keyword</th>\n",
       "      <th>location</th>\n",
       "      <th>text</th>\n",
       "      <th>target</th>\n",
       "    </tr>\n",
       "  </thead>\n",
       "  <tbody>\n",
       "    <tr>\n",
       "      <th>2644</th>\n",
       "      <td>3796</td>\n",
       "      <td>destruction</td>\n",
       "      <td>NaN</td>\n",
       "      <td>So you have a new weapon that can cause un-ima...</td>\n",
       "      <td>1</td>\n",
       "    </tr>\n",
       "    <tr>\n",
       "      <th>2227</th>\n",
       "      <td>3185</td>\n",
       "      <td>deluge</td>\n",
       "      <td>NaN</td>\n",
       "      <td>The f$&amp;amp;@ing things I do for #GISHWHES Just...</td>\n",
       "      <td>0</td>\n",
       "    </tr>\n",
       "    <tr>\n",
       "      <th>5448</th>\n",
       "      <td>7769</td>\n",
       "      <td>police</td>\n",
       "      <td>UK</td>\n",
       "      <td>DT @georgegalloway: RT @Galloway4Mayor: ÛÏThe...</td>\n",
       "      <td>1</td>\n",
       "    </tr>\n",
       "    <tr>\n",
       "      <th>132</th>\n",
       "      <td>191</td>\n",
       "      <td>aftershock</td>\n",
       "      <td>NaN</td>\n",
       "      <td>Aftershock back to school kick off was great. ...</td>\n",
       "      <td>0</td>\n",
       "    </tr>\n",
       "    <tr>\n",
       "      <th>6845</th>\n",
       "      <td>9810</td>\n",
       "      <td>trauma</td>\n",
       "      <td>Montgomery County, MD</td>\n",
       "      <td>in response to trauma Children of Addicts deve...</td>\n",
       "      <td>0</td>\n",
       "    </tr>\n",
       "  </tbody>\n",
       "</table>\n",
       "</div>"
      ],
      "text/plain": [
       "        id      keyword               location  \\\n",
       "2644  3796  destruction                    NaN   \n",
       "2227  3185       deluge                    NaN   \n",
       "5448  7769       police                     UK   \n",
       "132    191   aftershock                    NaN   \n",
       "6845  9810       trauma  Montgomery County, MD   \n",
       "\n",
       "                                                   text  target  \n",
       "2644  So you have a new weapon that can cause un-ima...       1  \n",
       "2227  The f$&amp;@ing things I do for #GISHWHES Just...       0  \n",
       "5448  DT @georgegalloway: RT @Galloway4Mayor: ÛÏThe...       1  \n",
       "132   Aftershock back to school kick off was great. ...       0  \n",
       "6845  in response to trauma Children of Addicts deve...       0  "
      ]
     },
     "execution_count": 8,
     "metadata": {},
     "output_type": "execute_result"
    }
   ],
   "source": [
    "# shuffle training data\n",
    "train = train.sample(frac=1, random_state=42)\n",
    "train.head()"
   ]
  },
  {
   "cell_type": "code",
   "execution_count": 9,
   "metadata": {},
   "outputs": [
    {
     "data": {
      "text/plain": [
       "0    4342\n",
       "1    3271\n",
       "Name: target, dtype: int64"
      ]
     },
     "execution_count": 9,
     "metadata": {},
     "output_type": "execute_result"
    }
   ],
   "source": [
    "# number of samples in classes\n",
    "train.target.value_counts()"
   ]
  },
  {
   "cell_type": "code",
   "execution_count": 14,
   "metadata": {},
   "outputs": [
    {
     "name": "stdout",
     "output_type": "stream",
     "text": [
      "Target: 0 not real disaster\n",
      "Text:\n",
      " @Volfan326 @TNeazzy Mizzou has annihilated florida the past 2 seasons even ended muschamp's career just can't compete with Bama\n",
      "---\n",
      "\n",
      "Target: 0 not real disaster\n",
      "Text:\n",
      " Bitch done blew my shit up\n",
      "---\n",
      "\n",
      "Target: 1 real disaster\n",
      "Text:\n",
      " Alleged driver in #Kuwait attack 'joined Daesh just a day before the June 26 suicide bombing' he confesses in court http://t.co/Tmz6X1N2gQ\n",
      "---\n",
      "\n",
      "Target: 1 real disaster\n",
      "Text:\n",
      " kindermorgan gas explosion\n",
      "---\n",
      "\n",
      "Target: 0 not real disaster\n",
      "Text:\n",
      " @danisnotonfire if you follow me I will go into town and advertise your youtube channel by screaming and walking around with a sign. Pls??\n",
      "---\n",
      "\n"
     ]
    }
   ],
   "source": [
    "# visualize random example\n",
    "import random\n",
    "random_index = random.randint(0, len(train)-5)\n",
    "for row in train[[\"text\", \"target\"]][random_index:random_index+5].itertuples():\n",
    "    _, text, target = row\n",
    "    print(\"Target: {}\".format(target), \"real disaster\" if target > 0 else \"not real disaster\")\n",
    "    print(\"Text:\\n {}\".format(text))\n",
    "    print(\"---\\n\")"
   ]
  },
  {
   "cell_type": "code",
   "execution_count": 33,
   "metadata": {},
   "outputs": [],
   "source": [
    "# get validation data\n",
    "from sklearn.model_selection import train_test_split\n",
    "train_sentence, val_sentence, train_label, val_label = train_test_split(train[\"text\"].to_numpy(),\n",
    "                                                                        train[\"target\"].to_numpy(),\n",
    "                                                                        test_size=0.1)\n"
   ]
  },
  {
   "cell_type": "code",
   "execution_count": 112,
   "metadata": {},
   "outputs": [
    {
     "data": {
      "text/plain": [
       "<keras.layers.preprocessing.text_vectorization.TextVectorization at 0x16dcf3d00>"
      ]
     },
     "execution_count": 112,
     "metadata": {},
     "output_type": "execute_result"
    }
   ],
   "source": [
    "# tokenization - convert string to numbers\n",
    "# embedding - representation of relationship between tokens (another input for neural network)\n",
    "tf.keras.layers.experimental.preprocessing.TextVectorization(max_tokens=None, #how many words in vocabulary\n",
    "                                                                    standardize = \"lower_and_strip_punctuation\",\n",
    "                                                                    split = \"whitespace\",\n",
    "                                                                    ngrams = None, #create groups of n-words\n",
    "                                                                    output_mode = \"int\",\n",
    "                                                                    output_sequence_length = None, #how long sequences want to be\n",
    "                                                                    )"
   ]
  },
  {
   "cell_type": "code",
   "execution_count": 31,
   "metadata": {},
   "outputs": [],
   "source": [
    "# setup text vectorization variables\n",
    "max_vocab_length = 10000 # max number\n",
    "max_length = 15 # how many words model see\n",
    "\n",
    "text_vectorizer = tf.keras.layers.experimental.preprocessing.TextVectorization(max_tokens=max_vocab_length, #how many words in vocabulary\n",
    "                                                                                output_mode = \"int\",\n",
    "                                                                                output_sequence_length = max_length #how long sequences want to be\n",
    "                                                                                )"
   ]
  },
  {
   "cell_type": "code",
   "execution_count": 34,
   "metadata": {},
   "outputs": [],
   "source": [
    "# Fit the text vectorizer to the train text\n",
    "text_vectorizer.adapt(train_sentence)"
   ]
  },
  {
   "cell_type": "code",
   "execution_count": 35,
   "metadata": {},
   "outputs": [
    {
     "data": {
      "text/plain": [
       "<tf.Tensor: shape=(1, 15), dtype=int64, numpy=array([[ 1, 12,  1, 13,  1,  0,  0,  0,  0,  0,  0,  0,  0,  0,  0]])>"
      ]
     },
     "execution_count": 35,
     "metadata": {},
     "output_type": "execute_result"
    }
   ],
   "source": [
    "text = \"Och you touche my tralala!\"\n",
    "text_vectorizer([text])"
   ]
  },
  {
   "cell_type": "code",
   "execution_count": 37,
   "metadata": {},
   "outputs": [
    {
     "name": "stdout",
     "output_type": "stream",
     "text": [
      "Original sentence:\n",
      "@soapscoop i need you to confirm that ross is dead cause i dont trust anyone else yh\n",
      "Vectorized text: \n",
      "[[8333    8  158   12    5 2162   15 1359    9  111  245    8   60  836\n",
      "   666]]\n"
     ]
    }
   ],
   "source": [
    "# check random sentence\n",
    "random_sentence = random.choice(train_sentence)\n",
    "print(\"Original sentence:\\n{}\".format(random_sentence))\n",
    "print(\"Vectorized text: \\n{}\".format(text_vectorizer([random_sentence])))"
   ]
  },
  {
   "cell_type": "code",
   "execution_count": 40,
   "metadata": {},
   "outputs": [
    {
     "name": "stdout",
     "output_type": "stream",
     "text": [
      "Words in vocabulary: 10000\n",
      "Most popular words ['', '[UNK]', 'the', 'a', 'in']\n",
      "Least popular words: ['paid', 'paging', 'pages', 'pageparkescorp', 'pagasa']\n"
     ]
    }
   ],
   "source": [
    "# uniq words in vocabulary\n",
    "vocabulary = text_vectorizer.get_vocabulary()\n",
    "print(\"Words in vocabulary: {}\".format(len(vocabulary)))\n",
    "print(\"Most popular words {}\".format(vocabulary[:5]))\n",
    "print(\"Least popular words: {}\".format(vocabulary[-5:]))"
   ]
  },
  {
   "cell_type": "code",
   "execution_count": 41,
   "metadata": {},
   "outputs": [],
   "source": [
    "# creating embedding\n",
    "embedding = tf.keras.layers.Embedding(input_dim = max_vocab_length, # input shape\n",
    "                                        output_dim=128, # output shape\n",
    "                                        input_length = max_length # how long is each input\n",
    "                                        )"
   ]
  },
  {
   "cell_type": "code",
   "execution_count": 47,
   "metadata": {},
   "outputs": [
    {
     "name": "stdout",
     "output_type": "stream",
     "text": [
      "Original version:\n",
      "The feeling of lonelyness has sunk into me strange depressing feeling.\n",
      "Embedded version:\n",
      "[[[ 3.7184898e-02 -3.2395519e-02  2.9373001e-02 ... -4.7757603e-02\n",
      "    2.1887649e-02 -3.2435238e-02]\n",
      "  [-2.9900050e-02 -9.4767921e-03 -4.6010878e-02 ... -5.8295950e-03\n",
      "    9.7265132e-03  8.6762011e-05]\n",
      "  [-3.9687406e-02  2.8739717e-02  2.1658961e-02 ... -3.1411134e-02\n",
      "   -2.9552734e-02  2.3835849e-02]\n",
      "  ...\n",
      "  [ 1.4170554e-02 -8.2284696e-03 -1.1513721e-02 ...  3.4373078e-02\n",
      "    2.7040590e-02 -2.4641706e-02]\n",
      "  [ 1.4170554e-02 -8.2284696e-03 -1.1513721e-02 ...  3.4373078e-02\n",
      "    2.7040590e-02 -2.4641706e-02]\n",
      "  [ 1.4170554e-02 -8.2284696e-03 -1.1513721e-02 ...  3.4373078e-02\n",
      "    2.7040590e-02 -2.4641706e-02]]]\n"
     ]
    },
    {
     "data": {
      "text/plain": [
       "TensorShape([1, 15, 128])"
      ]
     },
     "execution_count": 47,
     "metadata": {},
     "output_type": "execute_result"
    }
   ],
   "source": [
    "random_sentence = random.choice(train_sentence)\n",
    "print(\"Original version:\\n{}\".format(random_sentence))\n",
    "print(\"Embedded version:\\n{}\".format(embedding(text_vectorizer([random_sentence]))))\n",
    "np.shape(embedding(text_vectorizer([random_sentence])))"
   ]
  },
  {
   "cell_type": "markdown",
   "metadata": {},
   "source": [
    "## Model 0 Naive Bayes"
   ]
  },
  {
   "cell_type": "code",
   "execution_count": 49,
   "metadata": {},
   "outputs": [
    {
     "data": {
      "text/html": [
       "<style>#sk-container-id-1 {color: black;background-color: white;}#sk-container-id-1 pre{padding: 0;}#sk-container-id-1 div.sk-toggleable {background-color: white;}#sk-container-id-1 label.sk-toggleable__label {cursor: pointer;display: block;width: 100%;margin-bottom: 0;padding: 0.3em;box-sizing: border-box;text-align: center;}#sk-container-id-1 label.sk-toggleable__label-arrow:before {content: \"▸\";float: left;margin-right: 0.25em;color: #696969;}#sk-container-id-1 label.sk-toggleable__label-arrow:hover:before {color: black;}#sk-container-id-1 div.sk-estimator:hover label.sk-toggleable__label-arrow:before {color: black;}#sk-container-id-1 div.sk-toggleable__content {max-height: 0;max-width: 0;overflow: hidden;text-align: left;background-color: #f0f8ff;}#sk-container-id-1 div.sk-toggleable__content pre {margin: 0.2em;color: black;border-radius: 0.25em;background-color: #f0f8ff;}#sk-container-id-1 input.sk-toggleable__control:checked~div.sk-toggleable__content {max-height: 200px;max-width: 100%;overflow: auto;}#sk-container-id-1 input.sk-toggleable__control:checked~label.sk-toggleable__label-arrow:before {content: \"▾\";}#sk-container-id-1 div.sk-estimator input.sk-toggleable__control:checked~label.sk-toggleable__label {background-color: #d4ebff;}#sk-container-id-1 div.sk-label input.sk-toggleable__control:checked~label.sk-toggleable__label {background-color: #d4ebff;}#sk-container-id-1 input.sk-hidden--visually {border: 0;clip: rect(1px 1px 1px 1px);clip: rect(1px, 1px, 1px, 1px);height: 1px;margin: -1px;overflow: hidden;padding: 0;position: absolute;width: 1px;}#sk-container-id-1 div.sk-estimator {font-family: monospace;background-color: #f0f8ff;border: 1px dotted black;border-radius: 0.25em;box-sizing: border-box;margin-bottom: 0.5em;}#sk-container-id-1 div.sk-estimator:hover {background-color: #d4ebff;}#sk-container-id-1 div.sk-parallel-item::after {content: \"\";width: 100%;border-bottom: 1px solid gray;flex-grow: 1;}#sk-container-id-1 div.sk-label:hover label.sk-toggleable__label {background-color: #d4ebff;}#sk-container-id-1 div.sk-serial::before {content: \"\";position: absolute;border-left: 1px solid gray;box-sizing: border-box;top: 0;bottom: 0;left: 50%;z-index: 0;}#sk-container-id-1 div.sk-serial {display: flex;flex-direction: column;align-items: center;background-color: white;padding-right: 0.2em;padding-left: 0.2em;position: relative;}#sk-container-id-1 div.sk-item {position: relative;z-index: 1;}#sk-container-id-1 div.sk-parallel {display: flex;align-items: stretch;justify-content: center;background-color: white;position: relative;}#sk-container-id-1 div.sk-item::before, #sk-container-id-1 div.sk-parallel-item::before {content: \"\";position: absolute;border-left: 1px solid gray;box-sizing: border-box;top: 0;bottom: 0;left: 50%;z-index: -1;}#sk-container-id-1 div.sk-parallel-item {display: flex;flex-direction: column;z-index: 1;position: relative;background-color: white;}#sk-container-id-1 div.sk-parallel-item:first-child::after {align-self: flex-end;width: 50%;}#sk-container-id-1 div.sk-parallel-item:last-child::after {align-self: flex-start;width: 50%;}#sk-container-id-1 div.sk-parallel-item:only-child::after {width: 0;}#sk-container-id-1 div.sk-dashed-wrapped {border: 1px dashed gray;margin: 0 0.4em 0.5em 0.4em;box-sizing: border-box;padding-bottom: 0.4em;background-color: white;}#sk-container-id-1 div.sk-label label {font-family: monospace;font-weight: bold;display: inline-block;line-height: 1.2em;}#sk-container-id-1 div.sk-label-container {text-align: center;}#sk-container-id-1 div.sk-container {/* jupyter's `normalize.less` sets `[hidden] { display: none; }` but bootstrap.min.css set `[hidden] { display: none !important; }` so we also need the `!important` here to be able to override the default hidden behavior on the sphinx rendered scikit-learn.org. See: https://github.com/scikit-learn/scikit-learn/issues/21755 */display: inline-block !important;position: relative;}#sk-container-id-1 div.sk-text-repr-fallback {display: none;}</style><div id=\"sk-container-id-1\" class=\"sk-top-container\"><div class=\"sk-text-repr-fallback\"><pre>Pipeline(steps=[(&#x27;tfidf&#x27;, TfidfVectorizer()), (&#x27;clf&#x27;, MultinomialNB())])</pre><b>In a Jupyter environment, please rerun this cell to show the HTML representation or trust the notebook. <br />On GitHub, the HTML representation is unable to render, please try loading this page with nbviewer.org.</b></div><div class=\"sk-container\" hidden><div class=\"sk-item sk-dashed-wrapped\"><div class=\"sk-label-container\"><div class=\"sk-label sk-toggleable\"><input class=\"sk-toggleable__control sk-hidden--visually\" id=\"sk-estimator-id-1\" type=\"checkbox\" ><label for=\"sk-estimator-id-1\" class=\"sk-toggleable__label sk-toggleable__label-arrow\">Pipeline</label><div class=\"sk-toggleable__content\"><pre>Pipeline(steps=[(&#x27;tfidf&#x27;, TfidfVectorizer()), (&#x27;clf&#x27;, MultinomialNB())])</pre></div></div></div><div class=\"sk-serial\"><div class=\"sk-item\"><div class=\"sk-estimator sk-toggleable\"><input class=\"sk-toggleable__control sk-hidden--visually\" id=\"sk-estimator-id-2\" type=\"checkbox\" ><label for=\"sk-estimator-id-2\" class=\"sk-toggleable__label sk-toggleable__label-arrow\">TfidfVectorizer</label><div class=\"sk-toggleable__content\"><pre>TfidfVectorizer()</pre></div></div></div><div class=\"sk-item\"><div class=\"sk-estimator sk-toggleable\"><input class=\"sk-toggleable__control sk-hidden--visually\" id=\"sk-estimator-id-3\" type=\"checkbox\" ><label for=\"sk-estimator-id-3\" class=\"sk-toggleable__label sk-toggleable__label-arrow\">MultinomialNB</label><div class=\"sk-toggleable__content\"><pre>MultinomialNB()</pre></div></div></div></div></div></div></div>"
      ],
      "text/plain": [
       "Pipeline(steps=[('tfidf', TfidfVectorizer()), ('clf', MultinomialNB())])"
      ]
     },
     "execution_count": 49,
     "metadata": {},
     "output_type": "execute_result"
    }
   ],
   "source": [
    "from sklearn.feature_extraction.text import TfidfVectorizer, CountVectorizer\n",
    "from sklearn.naive_bayes import MultinomialNB\n",
    "from sklearn import metrics\n",
    "from sklearn.pipeline import Pipeline\n",
    "\n",
    "model_0 = Pipeline([\n",
    "    (\"tfidf\", TfidfVectorizer()), # convert words to numbers\n",
    "    (\"clf\", MultinomialNB()) # model the text\n",
    "])\n",
    "\n",
    "# fit the pipline to training data\n",
    "model_0.fit(train_sentence, train_label)"
   ]
  },
  {
   "cell_type": "code",
   "execution_count": 52,
   "metadata": {},
   "outputs": [
    {
     "name": "stdout",
     "output_type": "stream",
     "text": [
      "Baseline model accuracy 0.7847769028871391\n"
     ]
    }
   ],
   "source": [
    "# evaluate model\n",
    "print(\"Baseline model accuracy {}\".format(model_0.score(val_sentence, val_label)))"
   ]
  },
  {
   "cell_type": "code",
   "execution_count": 104,
   "metadata": {},
   "outputs": [],
   "source": [
    "def summary(model_pred, val_label):\n",
    "    print(metrics.classification_report(val_label, model_pred))\n",
    "\n",
    "    print(\"confusion matrix:\")\n",
    "    print(metrics.confusion_matrix(val_label, model_pred))\n",
    "\n",
    "    print('------------------------------')"
   ]
  },
  {
   "cell_type": "code",
   "execution_count": 106,
   "metadata": {},
   "outputs": [
    {
     "name": "stdout",
     "output_type": "stream",
     "text": [
      "              precision    recall  f1-score   support\n",
      "\n",
      "           0       0.76      0.92      0.83       440\n",
      "           1       0.84      0.61      0.70       322\n",
      "\n",
      "    accuracy                           0.78       762\n",
      "   macro avg       0.80      0.76      0.77       762\n",
      "weighted avg       0.79      0.78      0.78       762\n",
      "\n",
      "confusion matrix:\n",
      "[[403  37]\n",
      " [127 195]]\n",
      "------------------------------\n"
     ]
    }
   ],
   "source": [
    "model_0_pred = model_0.predict(val_sentence)\n",
    "summary(model_0_pred, val_label)"
   ]
  },
  {
   "cell_type": "markdown",
   "metadata": {},
   "source": [
    "## Model 1 Feed-forward neural network"
   ]
  },
  {
   "cell_type": "code",
   "execution_count": 118,
   "metadata": {},
   "outputs": [
    {
     "name": "stdout",
     "output_type": "stream",
     "text": [
      "Model: \"model_22\"\n",
      "_________________________________________________________________\n",
      " Layer (type)                Output Shape              Param #   \n",
      "=================================================================\n",
      " input_6 (InputLayer)        [(None, 1)]               0         \n",
      "                                                                 \n",
      " text_vectorization_26 (Text  (None, 15)               0         \n",
      " Vectorization)                                                  \n",
      "                                                                 \n",
      " embedding_23 (Embedding)    (None, 15, 128)           1280000   \n",
      "                                                                 \n",
      " global_average_pooling1d_20  (None, 128)              0         \n",
      "  (GlobalAveragePooling1D)                                       \n",
      "                                                                 \n",
      " dense_41 (Dense)            (None, 1)                 129       \n",
      "                                                                 \n",
      "=================================================================\n",
      "Total params: 1,280,129\n",
      "Trainable params: 1,280,129\n",
      "Non-trainable params: 0\n",
      "_________________________________________________________________\n"
     ]
    }
   ],
   "source": [
    "max_vocab_length = 10000 # max number\n",
    "max_length = 15 # how many words model see\n",
    "\n",
    "text_vectorizer = tf.keras.layers.experimental.preprocessing.TextVectorization(max_tokens=max_vocab_length, #how many words in vocabulary\n",
    "                                                                                output_mode = \"int\",\n",
    "                                                                                output_sequence_length = max_length) #how long sequences want to be)\n",
    "# fit\n",
    "text_vectorizer.adapt(train_sentence)\n",
    "\n",
    "embedding = tf.keras.layers.Embedding(input_dim = max_vocab_length, # input shape\n",
    "                                        output_dim=128, # output shape\n",
    "                                        input_length = max_length) # how long is each input)\n",
    "\n",
    "# Input layer\n",
    "input = tf.keras.layers.Input(shape = (1,), dtype = \"string\") # number of input is automatically define\n",
    "\n",
    "# define the model\n",
    "x = text_vectorizer(input)\n",
    "x = embedding(x)\n",
    "x = tf.keras.layers.GlobalAveragePooling1D()(x)\n",
    "output = tf.keras.layers.Dense(1, activation = \"sigmoid\")(x)\n",
    "model_1 = tf.keras.Model(input, output)\n",
    "\n",
    "# compile model\n",
    "model_1.compile(loss=\"binary_crossentropy\",\n",
    "                optimizer=tf.keras.optimizers.Adam(),\n",
    "                metrics=[\"accuracy\"])\n",
    "\n",
    "model_1.summary()"
   ]
  },
  {
   "cell_type": "code",
   "execution_count": 119,
   "metadata": {},
   "outputs": [
    {
     "name": "stdout",
     "output_type": "stream",
     "text": [
      "Epoch 1/5\n",
      "215/215 [==============================] - 6s 25ms/step - loss: 0.6118 - accuracy: 0.6946 - val_loss: 0.5373 - val_accuracy: 0.7677\n",
      "Epoch 2/5\n",
      "215/215 [==============================] - 5s 23ms/step - loss: 0.4400 - accuracy: 0.8203 - val_loss: 0.4774 - val_accuracy: 0.7743\n",
      "Epoch 3/5\n",
      "215/215 [==============================] - 5s 23ms/step - loss: 0.3451 - accuracy: 0.8610 - val_loss: 0.4671 - val_accuracy: 0.7782\n",
      "Epoch 4/5\n",
      "215/215 [==============================] - 5s 23ms/step - loss: 0.2818 - accuracy: 0.8937 - val_loss: 0.4794 - val_accuracy: 0.7730\n",
      "Epoch 5/5\n",
      "215/215 [==============================] - 5s 26ms/step - loss: 0.2337 - accuracy: 0.9149 - val_loss: 0.5066 - val_accuracy: 0.7717\n"
     ]
    }
   ],
   "source": [
    "# Fit the model\n",
    "model_1_history = model_1.fit(train_sentence, # input sentences can be a list of strings due to text preprocessing layer built-in model\n",
    "                              train_label,\n",
    "                              epochs=5,\n",
    "                              validation_data=(val_sentence, val_label))"
   ]
  },
  {
   "cell_type": "code",
   "execution_count": 120,
   "metadata": {},
   "outputs": [
    {
     "name": "stdout",
     "output_type": "stream",
     "text": [
      "              precision    recall  f1-score   support\n",
      "\n",
      "           0       0.78      0.84      0.81       440\n",
      "           1       0.76      0.68      0.72       322\n",
      "\n",
      "    accuracy                           0.77       762\n",
      "   macro avg       0.77      0.76      0.76       762\n",
      "weighted avg       0.77      0.77      0.77       762\n",
      "\n",
      "confusion matrix:\n",
      "[[369  71]\n",
      " [103 219]]\n",
      "------------------------------\n"
     ]
    }
   ],
   "source": [
    "model_1_pred = (model_1.predict(val_sentence)>0.5)\n",
    "summary(model_1_pred, val_label)"
   ]
  },
  {
   "cell_type": "code",
   "execution_count": 121,
   "metadata": {},
   "outputs": [
    {
     "data": {
      "image/png": "[encoded data removed]",
      "text/plain": [
       "<Figure size 432x288 with 1 Axes>"
      ]
     },
     "metadata": {
      "needs_background": "light"
     },
     "output_type": "display_data"
    },
    {
     "data": {
      "image/png": "[encoded data removed]",
      "text/plain": [
       "<Figure size 432x288 with 1 Axes>"
      ]
     },
     "metadata": {
      "needs_background": "light"
     },
     "output_type": "display_data"
    }
   ],
   "source": [
    "hf.plot_loss_curves(model_1_history)"
   ]
  },
  {
   "cell_type": "markdown",
   "metadata": {},
   "source": [
    "## RNN LSTM - long short term memory model"
   ]
  },
  {
   "cell_type": "code",
   "execution_count": 133,
   "metadata": {},
   "outputs": [
    {
     "name": "stdout",
     "output_type": "stream",
     "text": [
      "Model: \"model_30\"\n",
      "_________________________________________________________________\n",
      " Layer (type)                Output Shape              Param #   \n",
      "=================================================================\n",
      " input_16 (InputLayer)       [(None, 1)]               0         \n",
      "                                                                 \n",
      " text_vectorization_26 (Text  (None, 15)               0         \n",
      " Vectorization)                                                  \n",
      "                                                                 \n",
      " embedding_23 (Embedding)    (None, 15, 128)           1280000   \n",
      "                                                                 \n",
      " lstm_16 (LSTM)              (None, 15, 64)            49408     \n",
      "                                                                 \n",
      " lstm_17 (LSTM)              (None, 64)                33024     \n",
      "                                                                 \n",
      " dense_57 (Dense)            (None, 1)                 65        \n",
      "                                                                 \n",
      "=================================================================\n",
      "Total params: 1,362,497\n",
      "Trainable params: 1,362,497\n",
      "Non-trainable params: 0\n",
      "_________________________________________________________________\n"
     ]
    }
   ],
   "source": [
    "# create LSTM model\n",
    "input = tf.keras.layers.Input(shape=(1,), dtype = \"string\")\n",
    "x = text_vectorizer(input)\n",
    "x = embedding(x)\n",
    "\n",
    "x = tf.keras.layers.LSTM(units = 64, return_sequences = True)(x) # return_sequences return 3D \n",
    "x = tf.keras.layers.LSTM(units = 64)(x) # base inputs are nice\n",
    "#x = tf.keras.layers.Dense(64, activation = \"relu\")(x)\n",
    "output = tf.keras.layers.Dense(1, activation = \"sigmoid\")(x)\n",
    "\n",
    "model_2 = tf.keras.Model(input, output)\n",
    "\n",
    "model_2.compile(optimizer=\"Adam\", loss=\"binary_crossentropy\", metrics=[\"acc\"])\n",
    "model_2.summary()"
   ]
  },
  {
   "cell_type": "code",
   "execution_count": 134,
   "metadata": {},
   "outputs": [
    {
     "name": "stdout",
     "output_type": "stream",
     "text": [
      "Epoch 1/5\n",
      "215/215 [==============================] - 24s 77ms/step - loss: 0.1391 - acc: 0.9556 - val_loss: 1.1386 - val_acc: 0.7441\n",
      "Epoch 2/5\n",
      "215/215 [==============================] - 15s 70ms/step - loss: 0.0691 - acc: 0.9718 - val_loss: 0.9121 - val_acc: 0.7349\n",
      "Epoch 3/5\n",
      "215/215 [==============================] - 15s 71ms/step - loss: 0.0574 - acc: 0.9746 - val_loss: 1.2358 - val_acc: 0.7467\n",
      "Epoch 4/5\n",
      "215/215 [==============================] - 16s 75ms/step - loss: 0.0496 - acc: 0.9775 - val_loss: 1.4630 - val_acc: 0.7257\n",
      "Epoch 5/5\n",
      "215/215 [==============================] - 18s 85ms/step - loss: 0.0465 - acc: 0.9799 - val_loss: 1.6312 - val_acc: 0.7205\n"
     ]
    }
   ],
   "source": [
    "model_2_history = model_2.fit(train_sentence, # input sentences can be a list of strings due to text preprocessing layer built-in model\n",
    "                              train_label,\n",
    "                              epochs=5,\n",
    "                              validation_data=(val_sentence, val_label))"
   ]
  },
  {
   "cell_type": "code",
   "execution_count": 135,
   "metadata": {},
   "outputs": [
    {
     "name": "stdout",
     "output_type": "stream",
     "text": [
      "              precision    recall  f1-score   support\n",
      "\n",
      "           0       0.77      0.73      0.75       440\n",
      "           1       0.66      0.70      0.68       322\n",
      "\n",
      "    accuracy                           0.72       762\n",
      "   macro avg       0.71      0.72      0.72       762\n",
      "weighted avg       0.72      0.72      0.72       762\n",
      "\n",
      "confusion matrix:\n",
      "[[323 117]\n",
      " [ 96 226]]\n",
      "------------------------------\n"
     ]
    }
   ],
   "source": [
    "model_2_pred = (model_2.predict(val_sentence)>0.5)\n",
    "summary(model_2_pred, val_label)"
   ]
  },
  {
   "cell_type": "markdown",
   "metadata": {},
   "source": [
    "## RNN GRU - gated recurrent unit"
   ]
  },
  {
   "cell_type": "code",
   "execution_count": 139,
   "metadata": {},
   "outputs": [
    {
     "name": "stdout",
     "output_type": "stream",
     "text": [
      "Model: \"model_32\"\n",
      "_________________________________________________________________\n",
      " Layer (type)                Output Shape              Param #   \n",
      "=================================================================\n",
      " input_19 (InputLayer)       [(None, 1)]               0         \n",
      "                                                                 \n",
      " text_vectorization_26 (Text  (None, 15)               0         \n",
      " Vectorization)                                                  \n",
      "                                                                 \n",
      " embedding_23 (Embedding)    (None, 15, 128)           1280000   \n",
      "                                                                 \n",
      " gru_4 (GRU)                 (None, 15, 64)            37248     \n",
      "                                                                 \n",
      " gru_5 (GRU)                 (None, 15, 64)            24960     \n",
      "                                                                 \n",
      " lstm_19 (LSTM)              (None, 64)                33024     \n",
      "                                                                 \n",
      " dense_59 (Dense)            (None, 1)                 65        \n",
      "                                                                 \n",
      "=================================================================\n",
      "Total params: 1,375,297\n",
      "Trainable params: 1,375,297\n",
      "Non-trainable params: 0\n",
      "_________________________________________________________________\n"
     ]
    }
   ],
   "source": [
    "# create LSTM model\n",
    "input = tf.keras.layers.Input(shape=(1,), dtype = \"string\")\n",
    "x = text_vectorizer(input)\n",
    "x = embedding(x)\n",
    "\n",
    "x = tf.keras.layers.GRU(units = 64, return_sequences = True)(x) # return_sequences return 3D \n",
    "x = tf.keras.layers.GRU(units = 64,return_sequences = True)(x) # base inputs are nice\n",
    "x = tf.keras.layers.LSTM(units = 64)(x)\n",
    "output = tf.keras.layers.Dense(1, activation = \"sigmoid\")(x)\n",
    "\n",
    "model_3 = tf.keras.Model(input, output)\n",
    "\n",
    "model_3.compile(optimizer=\"Adam\", loss=\"binary_crossentropy\", metrics=[\"acc\"])\n",
    "model_3.summary()"
   ]
  },
  {
   "cell_type": "code",
   "execution_count": 140,
   "metadata": {},
   "outputs": [
    {
     "name": "stdout",
     "output_type": "stream",
     "text": [
      "Epoch 1/5\n",
      "215/215 [==============================] - 28s 94ms/step - loss: 0.1072 - acc: 0.9651 - val_loss: 1.0167 - val_acc: 0.7205\n",
      "Epoch 2/5\n",
      "215/215 [==============================] - 18s 86ms/step - loss: 0.0488 - acc: 0.9784 - val_loss: 1.3973 - val_acc: 0.7205\n",
      "Epoch 3/5\n",
      "215/215 [==============================] - 18s 86ms/step - loss: 0.0391 - acc: 0.9815 - val_loss: 1.9337 - val_acc: 0.7192\n",
      "Epoch 4/5\n",
      "215/215 [==============================] - 19s 87ms/step - loss: 0.0400 - acc: 0.9822 - val_loss: 1.5547 - val_acc: 0.7126\n",
      "Epoch 5/5\n",
      "215/215 [==============================] - 21s 100ms/step - loss: 0.0375 - acc: 0.9819 - val_loss: 1.4152 - val_acc: 0.7205\n"
     ]
    }
   ],
   "source": [
    "model_3_history = model_3.fit(train_sentence, # input sentences can be a list of strings due to text preprocessing layer built-in model\n",
    "                              train_label,\n",
    "                              epochs=5,\n",
    "                              validation_data=(val_sentence, val_label))"
   ]
  },
  {
   "cell_type": "markdown",
   "metadata": {},
   "source": [
    "## RNN bidirectional"
   ]
  },
  {
   "cell_type": "code",
   "execution_count": 148,
   "metadata": {},
   "outputs": [
    {
     "name": "stdout",
     "output_type": "stream",
     "text": [
      "Model: \"model_36\"\n",
      "_________________________________________________________________\n",
      " Layer (type)                Output Shape              Param #   \n",
      "=================================================================\n",
      " input_24 (InputLayer)       [(None, 1)]               0         \n",
      "                                                                 \n",
      " text_vectorization_26 (Text  (None, 15)               0         \n",
      " Vectorization)                                                  \n",
      "                                                                 \n",
      " embedding_23 (Embedding)    (None, 15, 128)           1280000   \n",
      "                                                                 \n",
      " bidirectional_7 (Bidirectio  (None, 15, 10)           5360      \n",
      " nal)                                                            \n",
      "                                                                 \n",
      " bidirectional_8 (Bidirectio  (None, 10)               510       \n",
      " nal)                                                            \n",
      "                                                                 \n",
      " dense_64 (Dense)            (None, 1)                 11        \n",
      "                                                                 \n",
      "=================================================================\n",
      "Total params: 1,285,881\n",
      "Trainable params: 1,285,881\n",
      "Non-trainable params: 0\n",
      "_________________________________________________________________\n"
     ]
    }
   ],
   "source": [
    "# create LSTM model\n",
    "input = tf.keras.layers.Input(shape=(1,), dtype = \"string\")\n",
    "x = text_vectorizer(input)\n",
    "x = embedding(x)\n",
    "\n",
    "x = tf.keras.layers.Bidirectional(tf.keras.layers.LSTM(5, return_sequences = True))(x) # return_sequences return 3D \n",
    "x = tf.keras.layers.Bidirectional(tf.keras.layers.GRU(5))(x) # return_sequences return 3D \n",
    "\n",
    "output = tf.keras.layers.Dense(1, activation = \"sigmoid\")(x)\n",
    "\n",
    "model_4 = tf.keras.Model(input, output)\n",
    "\n",
    "model_4.compile(optimizer=\"Adam\", loss=\"binary_crossentropy\", metrics=[\"acc\"])\n",
    "model_4.summary()\n",
    "\n"
   ]
  },
  {
   "cell_type": "code",
   "execution_count": 149,
   "metadata": {},
   "outputs": [
    {
     "name": "stdout",
     "output_type": "stream",
     "text": [
      "Epoch 1/5\n",
      "215/215 [==============================] - 27s 75ms/step - loss: 0.2156 - acc: 0.9527 - val_loss: 0.8666 - val_acc: 0.7139\n",
      "Epoch 2/5\n",
      "215/215 [==============================] - 14s 65ms/step - loss: 0.0568 - acc: 0.9806 - val_loss: 1.0753 - val_acc: 0.7113\n",
      "Epoch 3/5\n",
      "215/215 [==============================] - 13s 63ms/step - loss: 0.0437 - acc: 0.9816 - val_loss: 1.1541 - val_acc: 0.7165\n",
      "Epoch 4/5\n",
      "215/215 [==============================] - 14s 65ms/step - loss: 0.0385 - acc: 0.9818 - val_loss: 1.1849 - val_acc: 0.7205\n",
      "Epoch 5/5\n",
      "215/215 [==============================] - 14s 65ms/step - loss: 0.0351 - acc: 0.9839 - val_loss: 1.2497 - val_acc: 0.7178\n"
     ]
    }
   ],
   "source": [
    "model_4_history = model_4.fit(train_sentence, # input sentences can be a list of strings due to text preprocessing layer built-in model\n",
    "                              train_label,\n",
    "                              epochs=5,\n",
    "                              validation_data=(val_sentence, val_label))"
   ]
  },
  {
   "cell_type": "code",
   "execution_count": null,
   "metadata": {},
   "outputs": [],
   "source": []
  }
 ],
 "metadata": {
  "kernelspec": {
   "display_name": "Python 3.9.13 ('neural_net')",
   "language": "python",
   "name": "python3"
  },
  "language_info": {
   "codemirror_mode": {
    "name": "ipython",
    "version": 3
   },
   "file_extension": ".py",
   "mimetype": "text/x-python",
   "name": "python",
   "nbconvert_exporter": "python",
   "pygments_lexer": "ipython3",
   "version": "3.9.13"
  },
  "orig_nbformat": 4,
  "vscode": {
   "interpreter": {
    "hash": "d18e5bff9cd1c587ed392a0b9847d79ae9faffcfc6182f6c5dab79d5f8ed71a2"
   }
  }
 },
 "nbformat": 4,
 "nbformat_minor": 2
}
