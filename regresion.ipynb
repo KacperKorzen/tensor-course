{
 "cells": [
  {
   "cell_type": "code",
   "execution_count": 1,
   "metadata": {},
   "outputs": [
    {
     "name": "stdout",
     "output_type": "stream",
     "text": [
      "2.8.1\n"
     ]
    }
   ],
   "source": [
    "# import package\n",
    "import tensorflow as tf\n",
    "import numpy as np\n",
    "import matplotlib.pyplot as plt\n",
    "print(tf.__version__)"
   ]
  },
  {
   "cell_type": "code",
   "execution_count": 2,
   "metadata": {},
   "outputs": [],
   "source": [
    "# data sets\n",
    "x = np.array([1, 2, 3, 4, 5, 6, 7, 8])\n",
    "y = np.array([11, 12, 13, 14, 15, 16, 17, 18])"
   ]
  },
  {
   "cell_type": "code",
   "execution_count": 3,
   "metadata": {},
   "outputs": [
    {
     "data": {
      "text/plain": [
       "((8,), (8,))"
      ]
     },
     "execution_count": 3,
     "metadata": {},
     "output_type": "execute_result"
    }
   ],
   "source": [
    "# size of data sets\n",
    "input_size = x.shape\n",
    "output_size = y.shape\n",
    "input_size, output_size\n"
   ]
  },
  {
   "cell_type": "code",
   "execution_count": 4,
   "metadata": {},
   "outputs": [
    {
     "name": "stderr",
     "output_type": "stream",
     "text": [
      "2022-07-05 14:07:55.987802: I tensorflow/core/platform/cpu_feature_guard.cc:151] This TensorFlow binary is optimized with oneAPI Deep Neural Network Library (oneDNN) to use the following CPU instructions in performance-critical operations:  SSE4.1 SSE4.2 AVX AVX2 FMA\n",
      "To enable them in other operations, rebuild TensorFlow with the appropriate compiler flags.\n"
     ]
    },
    {
     "data": {
      "text/plain": [
       "(<tf.Tensor: shape=(8,), dtype=float32, numpy=array([1., 2., 3., 4., 5., 6., 7., 8.], dtype=float32)>,\n",
       " <tf.Tensor: shape=(8,), dtype=float32, numpy=array([11., 12., 13., 14., 15., 16., 17., 18.], dtype=float32)>)"
      ]
     },
     "execution_count": 4,
     "metadata": {},
     "output_type": "execute_result"
    }
   ],
   "source": [
    "# convert numpy to tensor\n",
    "X = tf.cast(tf.constant(x),dtype = tf.float32)\n",
    "y = tf.cast(tf.constant(y), dtype=tf.float32)\n",
    "tf.expand_dims(x, axis=-1)\n",
    "X,y"
   ]
  },
  {
   "cell_type": "code",
   "execution_count": 5,
   "metadata": {},
   "outputs": [
    {
     "name": "stdout",
     "output_type": "stream",
     "text": [
      "Epoch 1/100\n",
      "1/1 [==============================] - 0s 384ms/step - loss: 11.9347 - mae: 11.9347\n",
      "Epoch 2/100\n",
      "1/1 [==============================] - 0s 14ms/step - loss: 11.7222 - mae: 11.7222\n",
      "Epoch 3/100\n",
      "1/1 [==============================] - 0s 14ms/step - loss: 11.5097 - mae: 11.5097\n",
      "Epoch 4/100\n",
      "1/1 [==============================] - 0s 9ms/step - loss: 11.2972 - mae: 11.2972\n",
      "Epoch 5/100\n",
      "1/1 [==============================] - 0s 9ms/step - loss: 11.0847 - mae: 11.0847\n",
      "Epoch 6/100\n",
      "1/1 [==============================] - 0s 9ms/step - loss: 10.8722 - mae: 10.8722\n",
      "Epoch 7/100\n",
      "1/1 [==============================] - 0s 9ms/step - loss: 10.6597 - mae: 10.6597\n",
      "Epoch 8/100\n",
      "1/1 [==============================] - 0s 7ms/step - loss: 10.4472 - mae: 10.4472\n",
      "Epoch 9/100\n",
      "1/1 [==============================] - 0s 9ms/step - loss: 10.2347 - mae: 10.2347\n",
      "Epoch 10/100\n",
      "1/1 [==============================] - 0s 9ms/step - loss: 10.0222 - mae: 10.0222\n",
      "Epoch 11/100\n",
      "1/1 [==============================] - 0s 7ms/step - loss: 9.8097 - mae: 9.8097\n",
      "Epoch 12/100\n",
      "1/1 [==============================] - 0s 9ms/step - loss: 9.5972 - mae: 9.5972\n",
      "Epoch 13/100\n",
      "1/1 [==============================] - 0s 9ms/step - loss: 9.3847 - mae: 9.3847\n",
      "Epoch 14/100\n",
      "1/1 [==============================] - 0s 10ms/step - loss: 9.1722 - mae: 9.1722\n",
      "Epoch 15/100\n",
      "1/1 [==============================] - 0s 9ms/step - loss: 8.9597 - mae: 8.9597\n",
      "Epoch 16/100\n",
      "1/1 [==============================] - 0s 16ms/step - loss: 8.7472 - mae: 8.7472\n",
      "Epoch 17/100\n",
      "1/1 [==============================] - 0s 9ms/step - loss: 8.5347 - mae: 8.5347\n",
      "Epoch 18/100\n",
      "1/1 [==============================] - 0s 12ms/step - loss: 8.3222 - mae: 8.3222\n",
      "Epoch 19/100\n",
      "1/1 [==============================] - 0s 28ms/step - loss: 8.1097 - mae: 8.1097\n",
      "Epoch 20/100\n",
      "1/1 [==============================] - 0s 12ms/step - loss: 7.8972 - mae: 7.8972\n",
      "Epoch 21/100\n",
      "1/1 [==============================] - 0s 9ms/step - loss: 7.6847 - mae: 7.6847\n",
      "Epoch 22/100\n",
      "1/1 [==============================] - 0s 16ms/step - loss: 7.4722 - mae: 7.4722\n",
      "Epoch 23/100\n",
      "1/1 [==============================] - 0s 12ms/step - loss: 7.2597 - mae: 7.2597\n",
      "Epoch 24/100\n",
      "1/1 [==============================] - 0s 17ms/step - loss: 7.0472 - mae: 7.0472\n",
      "Epoch 25/100\n",
      "1/1 [==============================] - 0s 7ms/step - loss: 6.8347 - mae: 6.8347\n",
      "Epoch 26/100\n",
      "1/1 [==============================] - 0s 16ms/step - loss: 6.6222 - mae: 6.6222\n",
      "Epoch 27/100\n",
      "1/1 [==============================] - 0s 21ms/step - loss: 6.4097 - mae: 6.4097\n",
      "Epoch 28/100\n",
      "1/1 [==============================] - 0s 27ms/step - loss: 6.1972 - mae: 6.1972\n",
      "Epoch 29/100\n",
      "1/1 [==============================] - 0s 11ms/step - loss: 5.9847 - mae: 5.9847\n",
      "Epoch 30/100\n",
      "1/1 [==============================] - 0s 14ms/step - loss: 5.7722 - mae: 5.7722\n",
      "Epoch 31/100\n",
      "1/1 [==============================] - 0s 9ms/step - loss: 5.5597 - mae: 5.5597\n",
      "Epoch 32/100\n",
      "1/1 [==============================] - 0s 10ms/step - loss: 5.3472 - mae: 5.3472\n",
      "Epoch 33/100\n",
      "1/1 [==============================] - 0s 5ms/step - loss: 5.1347 - mae: 5.1347\n",
      "Epoch 34/100\n",
      "1/1 [==============================] - 0s 6ms/step - loss: 4.9222 - mae: 4.9222\n",
      "Epoch 35/100\n",
      "1/1 [==============================] - 0s 8ms/step - loss: 4.7097 - mae: 4.7097\n",
      "Epoch 36/100\n",
      "1/1 [==============================] - 0s 13ms/step - loss: 4.4972 - mae: 4.4972\n",
      "Epoch 37/100\n",
      "1/1 [==============================] - 0s 31ms/step - loss: 4.2847 - mae: 4.2847\n",
      "Epoch 38/100\n",
      "1/1 [==============================] - 0s 13ms/step - loss: 4.1349 - mae: 4.1349\n",
      "Epoch 39/100\n",
      "1/1 [==============================] - 0s 11ms/step - loss: 4.0667 - mae: 4.0667\n",
      "Epoch 40/100\n",
      "1/1 [==============================] - 0s 12ms/step - loss: 3.9986 - mae: 3.9986\n",
      "Epoch 41/100\n",
      "1/1 [==============================] - 0s 9ms/step - loss: 3.9305 - mae: 3.9305\n",
      "Epoch 42/100\n",
      "1/1 [==============================] - 0s 9ms/step - loss: 3.8624 - mae: 3.8624\n",
      "Epoch 43/100\n",
      "1/1 [==============================] - 0s 7ms/step - loss: 3.7942 - mae: 3.7942\n",
      "Epoch 44/100\n",
      "1/1 [==============================] - 0s 9ms/step - loss: 3.7537 - mae: 3.7537\n",
      "Epoch 45/100\n",
      "1/1 [==============================] - 0s 9ms/step - loss: 3.7456 - mae: 3.7456\n",
      "Epoch 46/100\n",
      "1/1 [==============================] - 0s 7ms/step - loss: 3.7375 - mae: 3.7375\n",
      "Epoch 47/100\n",
      "1/1 [==============================] - 0s 6ms/step - loss: 3.7293 - mae: 3.7293\n",
      "Epoch 48/100\n",
      "1/1 [==============================] - 0s 11ms/step - loss: 3.7212 - mae: 3.7212\n",
      "Epoch 49/100\n",
      "1/1 [==============================] - 0s 5ms/step - loss: 3.7131 - mae: 3.7131\n",
      "Epoch 50/100\n",
      "1/1 [==============================] - 0s 6ms/step - loss: 3.7050 - mae: 3.7050\n",
      "Epoch 51/100\n",
      "1/1 [==============================] - 0s 12ms/step - loss: 3.6968 - mae: 3.6968\n",
      "Epoch 52/100\n",
      "1/1 [==============================] - 0s 14ms/step - loss: 3.6887 - mae: 3.6887\n",
      "Epoch 53/100\n",
      "1/1 [==============================] - 0s 11ms/step - loss: 3.6806 - mae: 3.6806\n",
      "Epoch 54/100\n",
      "1/1 [==============================] - 0s 12ms/step - loss: 3.6725 - mae: 3.6725\n",
      "Epoch 55/100\n",
      "1/1 [==============================] - 0s 15ms/step - loss: 3.6643 - mae: 3.6643\n",
      "Epoch 56/100\n",
      "1/1 [==============================] - 0s 14ms/step - loss: 3.6562 - mae: 3.6562\n",
      "Epoch 57/100\n",
      "1/1 [==============================] - 0s 27ms/step - loss: 3.6481 - mae: 3.6481\n",
      "Epoch 58/100\n",
      "1/1 [==============================] - 0s 32ms/step - loss: 3.6400 - mae: 3.6400\n",
      "Epoch 59/100\n",
      "1/1 [==============================] - 0s 9ms/step - loss: 3.6318 - mae: 3.6318\n",
      "Epoch 60/100\n",
      "1/1 [==============================] - 0s 13ms/step - loss: 3.6237 - mae: 3.6237\n",
      "Epoch 61/100\n",
      "1/1 [==============================] - 0s 12ms/step - loss: 3.6156 - mae: 3.6156\n",
      "Epoch 62/100\n",
      "1/1 [==============================] - 0s 13ms/step - loss: 3.6075 - mae: 3.6075\n",
      "Epoch 63/100\n",
      "1/1 [==============================] - 0s 13ms/step - loss: 3.5993 - mae: 3.5993\n",
      "Epoch 64/100\n",
      "1/1 [==============================] - 0s 9ms/step - loss: 3.5912 - mae: 3.5912\n",
      "Epoch 65/100\n",
      "1/1 [==============================] - 0s 6ms/step - loss: 3.5831 - mae: 3.5831\n",
      "Epoch 66/100\n",
      "1/1 [==============================] - 0s 15ms/step - loss: 3.5750 - mae: 3.5750\n",
      "Epoch 67/100\n",
      "1/1 [==============================] - 0s 20ms/step - loss: 3.5668 - mae: 3.5668\n",
      "Epoch 68/100\n",
      "1/1 [==============================] - 0s 9ms/step - loss: 3.5587 - mae: 3.5587\n",
      "Epoch 69/100\n",
      "1/1 [==============================] - 0s 10ms/step - loss: 3.5506 - mae: 3.5506\n",
      "Epoch 70/100\n",
      "1/1 [==============================] - 0s 13ms/step - loss: 3.5488 - mae: 3.5488\n",
      "Epoch 71/100\n",
      "1/1 [==============================] - 0s 12ms/step - loss: 3.5468 - mae: 3.5468\n",
      "Epoch 72/100\n",
      "1/1 [==============================] - 0s 10ms/step - loss: 3.5469 - mae: 3.5469\n",
      "Epoch 73/100\n",
      "1/1 [==============================] - 0s 7ms/step - loss: 3.5431 - mae: 3.5431\n",
      "Epoch 74/100\n",
      "1/1 [==============================] - 0s 11ms/step - loss: 3.5450 - mae: 3.5450\n",
      "Epoch 75/100\n",
      "1/1 [==============================] - 0s 8ms/step - loss: 3.5393 - mae: 3.5393\n",
      "Epoch 76/100\n",
      "1/1 [==============================] - 0s 8ms/step - loss: 3.5432 - mae: 3.5432\n",
      "Epoch 77/100\n",
      "1/1 [==============================] - 0s 13ms/step - loss: 3.5369 - mae: 3.5369\n",
      "Epoch 78/100\n",
      "1/1 [==============================] - 0s 6ms/step - loss: 3.5400 - mae: 3.5400\n",
      "Epoch 79/100\n",
      "1/1 [==============================] - 0s 10ms/step - loss: 3.5350 - mae: 3.5350\n",
      "Epoch 80/100\n",
      "1/1 [==============================] - 0s 6ms/step - loss: 3.5362 - mae: 3.5362\n",
      "Epoch 81/100\n",
      "1/1 [==============================] - 0s 8ms/step - loss: 3.5332 - mae: 3.5332\n",
      "Epoch 82/100\n",
      "1/1 [==============================] - 0s 9ms/step - loss: 3.5325 - mae: 3.5325\n",
      "Epoch 83/100\n",
      "1/1 [==============================] - 0s 11ms/step - loss: 3.5313 - mae: 3.5313\n",
      "Epoch 84/100\n",
      "1/1 [==============================] - 0s 15ms/step - loss: 3.5287 - mae: 3.5287\n",
      "Epoch 85/100\n",
      "1/1 [==============================] - 0s 11ms/step - loss: 3.5294 - mae: 3.5294\n",
      "Epoch 86/100\n",
      "1/1 [==============================] - 0s 11ms/step - loss: 3.5250 - mae: 3.5250\n",
      "Epoch 87/100\n",
      "1/1 [==============================] - 0s 7ms/step - loss: 3.5275 - mae: 3.5275\n",
      "Epoch 88/100\n",
      "1/1 [==============================] - 0s 19ms/step - loss: 3.5213 - mae: 3.5213\n",
      "Epoch 89/100\n",
      "1/1 [==============================] - 0s 26ms/step - loss: 3.5256 - mae: 3.5256\n",
      "Epoch 90/100\n",
      "1/1 [==============================] - 0s 9ms/step - loss: 3.5194 - mae: 3.5194\n",
      "Epoch 91/100\n",
      "1/1 [==============================] - 0s 6ms/step - loss: 3.5218 - mae: 3.5218\n",
      "Epoch 92/100\n",
      "1/1 [==============================] - 0s 9ms/step - loss: 3.5175 - mae: 3.5175\n",
      "Epoch 93/100\n",
      "1/1 [==============================] - 0s 8ms/step - loss: 3.5181 - mae: 3.5181\n",
      "Epoch 94/100\n",
      "1/1 [==============================] - 0s 6ms/step - loss: 3.5157 - mae: 3.5157\n",
      "Epoch 95/100\n",
      "1/1 [==============================] - 0s 9ms/step - loss: 3.5143 - mae: 3.5143\n",
      "Epoch 96/100\n",
      "1/1 [==============================] - 0s 6ms/step - loss: 3.5138 - mae: 3.5138\n",
      "Epoch 97/100\n",
      "1/1 [==============================] - 0s 15ms/step - loss: 3.5106 - mae: 3.5106\n",
      "Epoch 98/100\n",
      "1/1 [==============================] - 0s 5ms/step - loss: 3.5119 - mae: 3.5119\n",
      "Epoch 99/100\n",
      "1/1 [==============================] - 0s 6ms/step - loss: 3.5068 - mae: 3.5068\n",
      "Epoch 100/100\n",
      "1/1 [==============================] - 0s 9ms/step - loss: 3.5100 - mae: 3.5100\n"
     ]
    },
    {
     "data": {
      "text/plain": [
       "<keras.callbacks.History at 0x167b29d30>"
      ]
     },
     "execution_count": 5,
     "metadata": {},
     "output_type": "execute_result"
    }
   ],
   "source": [
    "# preparing model\n",
    "\n",
    "tf.random.set_seed(42)\n",
    "\n",
    "# create model\n",
    "model = tf.keras.Sequential([\n",
    "    tf.keras.layers.Dense(1)\n",
    "])\n",
    "\n",
    "# compile model\n",
    "model.compile(loss=tf.keras.losses.mae,\n",
    "            optimizer = tf.keras.optimizers.SGD(),\n",
    "            metrics = [\"mae\"])\n",
    "\n",
    "model.fit(tf.expand_dims(X, axis=-1),y , epochs=100)\n"
   ]
  },
  {
   "cell_type": "code",
   "execution_count": 6,
   "metadata": {},
   "outputs": [
    {
     "data": {
      "text/plain": [
       "array([[256.41336]], dtype=float32)"
      ]
     },
     "execution_count": 6,
     "metadata": {},
     "output_type": "execute_result"
    }
   ],
   "source": [
    "model.predict([100.])"
   ]
  },
  {
   "cell_type": "code",
   "execution_count": 7,
   "metadata": {},
   "outputs": [
    {
     "name": "stdout",
     "output_type": "stream",
     "text": [
      "Epoch 1/100\n"
     ]
    },
    {
     "name": "stderr",
     "output_type": "stream",
     "text": [
      "/Users/korzeniewski/opt/anaconda3/envs/neural_net/lib/python3.9/site-packages/keras/optimizer_v2/adam.py:105: UserWarning: The `lr` argument is deprecated, use `learning_rate` instead.\n",
      "  super(Adam, self).__init__(name, **kwargs)\n"
     ]
    },
    {
     "name": "stdout",
     "output_type": "stream",
     "text": [
      "1/1 [==============================] - 1s 694ms/step - loss: 16.0745 - mae: 16.0745\n",
      "Epoch 2/100\n",
      "1/1 [==============================] - 0s 7ms/step - loss: 15.5120 - mae: 15.5120\n",
      "Epoch 3/100\n",
      "1/1 [==============================] - 0s 13ms/step - loss: 14.9564 - mae: 14.9564\n",
      "Epoch 4/100\n",
      "1/1 [==============================] - 0s 13ms/step - loss: 14.4140 - mae: 14.4140\n",
      "Epoch 5/100\n",
      "1/1 [==============================] - 0s 23ms/step - loss: 13.8745 - mae: 13.8745\n",
      "Epoch 6/100\n",
      "1/1 [==============================] - 0s 25ms/step - loss: 13.3366 - mae: 13.3366\n",
      "Epoch 7/100\n",
      "1/1 [==============================] - 0s 14ms/step - loss: 12.7979 - mae: 12.7979\n",
      "Epoch 8/100\n",
      "1/1 [==============================] - 0s 16ms/step - loss: 12.2566 - mae: 12.2566\n",
      "Epoch 9/100\n",
      "1/1 [==============================] - 0s 7ms/step - loss: 11.7117 - mae: 11.7117\n",
      "Epoch 10/100\n",
      "1/1 [==============================] - 0s 11ms/step - loss: 11.1619 - mae: 11.1619\n",
      "Epoch 11/100\n",
      "1/1 [==============================] - 0s 9ms/step - loss: 10.6066 - mae: 10.6066\n",
      "Epoch 12/100\n",
      "1/1 [==============================] - 0s 13ms/step - loss: 10.0445 - mae: 10.0445\n",
      "Epoch 13/100\n",
      "1/1 [==============================] - 0s 12ms/step - loss: 9.4754 - mae: 9.4754\n",
      "Epoch 14/100\n",
      "1/1 [==============================] - 0s 24ms/step - loss: 8.8996 - mae: 8.8996\n",
      "Epoch 15/100\n",
      "1/1 [==============================] - 0s 16ms/step - loss: 8.3118 - mae: 8.3118\n",
      "Epoch 16/100\n",
      "1/1 [==============================] - 0s 22ms/step - loss: 7.7103 - mae: 7.7103\n",
      "Epoch 17/100\n",
      "1/1 [==============================] - 0s 17ms/step - loss: 7.0963 - mae: 7.0963\n",
      "Epoch 18/100\n",
      "1/1 [==============================] - 0s 14ms/step - loss: 6.4670 - mae: 6.4670\n",
      "Epoch 19/100\n",
      "1/1 [==============================] - 0s 16ms/step - loss: 5.8180 - mae: 5.8180\n",
      "Epoch 20/100\n",
      "1/1 [==============================] - 0s 16ms/step - loss: 5.1478 - mae: 5.1478\n",
      "Epoch 21/100\n",
      "1/1 [==============================] - 0s 17ms/step - loss: 4.4554 - mae: 4.4554\n",
      "Epoch 22/100\n",
      "1/1 [==============================] - 0s 8ms/step - loss: 3.7431 - mae: 3.7431\n",
      "Epoch 23/100\n",
      "1/1 [==============================] - 0s 16ms/step - loss: 3.3260 - mae: 3.3260\n",
      "Epoch 24/100\n",
      "1/1 [==============================] - 0s 11ms/step - loss: 3.1768 - mae: 3.1768\n",
      "Epoch 25/100\n",
      "1/1 [==============================] - 0s 17ms/step - loss: 3.1678 - mae: 3.1678\n",
      "Epoch 26/100\n",
      "1/1 [==============================] - 0s 13ms/step - loss: 3.2286 - mae: 3.2286\n",
      "Epoch 27/100\n",
      "1/1 [==============================] - 0s 27ms/step - loss: 3.3689 - mae: 3.3689\n",
      "Epoch 28/100\n",
      "1/1 [==============================] - 0s 12ms/step - loss: 3.5323 - mae: 3.5323\n",
      "Epoch 29/100\n",
      "1/1 [==============================] - 0s 11ms/step - loss: 3.6580 - mae: 3.6580\n",
      "Epoch 30/100\n",
      "1/1 [==============================] - 0s 9ms/step - loss: 3.7482 - mae: 3.7482\n",
      "Epoch 31/100\n",
      "1/1 [==============================] - 0s 12ms/step - loss: 3.8056 - mae: 3.8056\n",
      "Epoch 32/100\n",
      "1/1 [==============================] - 0s 11ms/step - loss: 3.8332 - mae: 3.8332\n",
      "Epoch 33/100\n",
      "1/1 [==============================] - 0s 11ms/step - loss: 3.8334 - mae: 3.8334\n",
      "Epoch 34/100\n",
      "1/1 [==============================] - 0s 12ms/step - loss: 3.8091 - mae: 3.8091\n",
      "Epoch 35/100\n",
      "1/1 [==============================] - 0s 13ms/step - loss: 3.7632 - mae: 3.7632\n",
      "Epoch 36/100\n",
      "1/1 [==============================] - 0s 11ms/step - loss: 3.6982 - mae: 3.6982\n",
      "Epoch 37/100\n",
      "1/1 [==============================] - 0s 19ms/step - loss: 3.6165 - mae: 3.6165\n",
      "Epoch 38/100\n",
      "1/1 [==============================] - 0s 18ms/step - loss: 3.5205 - mae: 3.5205\n",
      "Epoch 39/100\n",
      "1/1 [==============================] - 0s 12ms/step - loss: 3.4120 - mae: 3.4120\n",
      "Epoch 40/100\n",
      "1/1 [==============================] - 0s 9ms/step - loss: 3.2924 - mae: 3.2924\n",
      "Epoch 41/100\n",
      "1/1 [==============================] - 0s 11ms/step - loss: 3.1641 - mae: 3.1641\n",
      "Epoch 42/100\n",
      "1/1 [==============================] - 0s 13ms/step - loss: 3.0288 - mae: 3.0288\n",
      "Epoch 43/100\n",
      "1/1 [==============================] - 0s 15ms/step - loss: 2.9772 - mae: 2.9772\n",
      "Epoch 44/100\n",
      "1/1 [==============================] - 0s 9ms/step - loss: 2.9291 - mae: 2.9291\n",
      "Epoch 45/100\n",
      "1/1 [==============================] - 0s 10ms/step - loss: 2.8829 - mae: 2.8829\n",
      "Epoch 46/100\n",
      "1/1 [==============================] - 0s 17ms/step - loss: 2.8515 - mae: 2.8515\n",
      "Epoch 47/100\n",
      "1/1 [==============================] - 0s 15ms/step - loss: 2.8835 - mae: 2.8835\n",
      "Epoch 48/100\n",
      "1/1 [==============================] - 0s 10ms/step - loss: 2.9043 - mae: 2.9043\n",
      "Epoch 49/100\n",
      "1/1 [==============================] - 0s 15ms/step - loss: 2.9151 - mae: 2.9151\n",
      "Epoch 50/100\n",
      "1/1 [==============================] - 0s 13ms/step - loss: 2.9169 - mae: 2.9169\n",
      "Epoch 51/100\n",
      "1/1 [==============================] - 0s 10ms/step - loss: 2.9105 - mae: 2.9105\n",
      "Epoch 52/100\n",
      "1/1 [==============================] - 0s 15ms/step - loss: 2.8967 - mae: 2.8967\n",
      "Epoch 53/100\n",
      "1/1 [==============================] - 0s 23ms/step - loss: 2.8761 - mae: 2.8761\n",
      "Epoch 54/100\n",
      "1/1 [==============================] - 0s 13ms/step - loss: 2.8491 - mae: 2.8491\n",
      "Epoch 55/100\n",
      "1/1 [==============================] - 0s 35ms/step - loss: 2.8163 - mae: 2.8163\n",
      "Epoch 56/100\n",
      "1/1 [==============================] - 0s 22ms/step - loss: 2.7779 - mae: 2.7779\n",
      "Epoch 57/100\n",
      "1/1 [==============================] - 0s 12ms/step - loss: 2.7344 - mae: 2.7344\n",
      "Epoch 58/100\n",
      "1/1 [==============================] - 0s 9ms/step - loss: 2.6859 - mae: 2.6859\n",
      "Epoch 59/100\n",
      "1/1 [==============================] - 0s 21ms/step - loss: 2.6328 - mae: 2.6328\n",
      "Epoch 60/100\n",
      "1/1 [==============================] - 0s 8ms/step - loss: 2.6041 - mae: 2.6041\n",
      "Epoch 61/100\n",
      "1/1 [==============================] - 0s 9ms/step - loss: 2.5987 - mae: 2.5987\n",
      "Epoch 62/100\n",
      "1/1 [==============================] - 0s 11ms/step - loss: 2.5905 - mae: 2.5905\n",
      "Epoch 63/100\n",
      "1/1 [==============================] - 0s 13ms/step - loss: 2.5798 - mae: 2.5798\n",
      "Epoch 64/100\n",
      "1/1 [==============================] - 0s 10ms/step - loss: 2.5668 - mae: 2.5668\n",
      "Epoch 65/100\n",
      "1/1 [==============================] - 0s 20ms/step - loss: 2.5516 - mae: 2.5516\n",
      "Epoch 66/100\n",
      "1/1 [==============================] - 0s 9ms/step - loss: 2.5344 - mae: 2.5344\n",
      "Epoch 67/100\n",
      "1/1 [==============================] - 0s 7ms/step - loss: 2.5155 - mae: 2.5155\n",
      "Epoch 68/100\n",
      "1/1 [==============================] - 0s 6ms/step - loss: 2.4950 - mae: 2.4950\n",
      "Epoch 69/100\n",
      "1/1 [==============================] - 0s 11ms/step - loss: 2.4731 - mae: 2.4731\n",
      "Epoch 70/100\n",
      "1/1 [==============================] - 0s 11ms/step - loss: 2.4499 - mae: 2.4499\n",
      "Epoch 71/100\n",
      "1/1 [==============================] - 0s 9ms/step - loss: 2.4256 - mae: 2.4256\n",
      "Epoch 72/100\n",
      "1/1 [==============================] - 0s 8ms/step - loss: 2.4003 - mae: 2.4003\n",
      "Epoch 73/100\n",
      "1/1 [==============================] - 0s 8ms/step - loss: 2.3740 - mae: 2.3740\n",
      "Epoch 74/100\n",
      "1/1 [==============================] - 0s 9ms/step - loss: 2.3470 - mae: 2.3470\n",
      "Epoch 75/100\n",
      "1/1 [==============================] - 0s 12ms/step - loss: 2.3192 - mae: 2.3192\n",
      "Epoch 76/100\n",
      "1/1 [==============================] - 0s 20ms/step - loss: 2.2907 - mae: 2.2907\n",
      "Epoch 77/100\n",
      "1/1 [==============================] - 0s 26ms/step - loss: 2.2617 - mae: 2.2617\n",
      "Epoch 78/100\n",
      "1/1 [==============================] - 0s 17ms/step - loss: 2.2322 - mae: 2.2322\n",
      "Epoch 79/100\n",
      "1/1 [==============================] - 0s 8ms/step - loss: 2.2175 - mae: 2.2175\n",
      "Epoch 80/100\n",
      "1/1 [==============================] - 0s 9ms/step - loss: 2.2060 - mae: 2.2060\n",
      "Epoch 81/100\n",
      "1/1 [==============================] - 0s 6ms/step - loss: 2.1838 - mae: 2.1838\n",
      "Epoch 82/100\n",
      "1/1 [==============================] - 0s 10ms/step - loss: 2.1519 - mae: 2.1519\n",
      "Epoch 83/100\n",
      "1/1 [==============================] - 0s 9ms/step - loss: 2.1155 - mae: 2.1155\n",
      "Epoch 84/100\n",
      "1/1 [==============================] - 0s 11ms/step - loss: 2.0961 - mae: 2.0961\n",
      "Epoch 85/100\n",
      "1/1 [==============================] - 0s 7ms/step - loss: 2.0750 - mae: 2.0750\n",
      "Epoch 86/100\n",
      "1/1 [==============================] - 0s 9ms/step - loss: 2.0523 - mae: 2.0523\n",
      "Epoch 87/100\n",
      "1/1 [==============================] - 0s 10ms/step - loss: 2.0281 - mae: 2.0281\n",
      "Epoch 88/100\n",
      "1/1 [==============================] - 0s 10ms/step - loss: 2.0025 - mae: 2.0025\n",
      "Epoch 89/100\n",
      "1/1 [==============================] - 0s 13ms/step - loss: 1.9757 - mae: 1.9757\n",
      "Epoch 90/100\n",
      "1/1 [==============================] - 0s 16ms/step - loss: 1.9478 - mae: 1.9478\n",
      "Epoch 91/100\n",
      "1/1 [==============================] - 0s 9ms/step - loss: 1.9188 - mae: 1.9188\n",
      "Epoch 92/100\n",
      "1/1 [==============================] - 0s 11ms/step - loss: 1.9002 - mae: 1.9002\n",
      "Epoch 93/100\n",
      "1/1 [==============================] - 0s 13ms/step - loss: 1.8748 - mae: 1.8748\n",
      "Epoch 94/100\n",
      "1/1 [==============================] - 0s 23ms/step - loss: 1.8383 - mae: 1.8383\n",
      "Epoch 95/100\n",
      "1/1 [==============================] - 0s 32ms/step - loss: 1.8169 - mae: 1.8169\n",
      "Epoch 96/100\n",
      "1/1 [==============================] - 0s 11ms/step - loss: 1.7936 - mae: 1.7936\n",
      "Epoch 97/100\n",
      "1/1 [==============================] - 0s 7ms/step - loss: 1.7685 - mae: 1.7685\n",
      "Epoch 98/100\n",
      "1/1 [==============================] - 0s 11ms/step - loss: 1.7416 - mae: 1.7416\n",
      "Epoch 99/100\n",
      "1/1 [==============================] - 0s 12ms/step - loss: 1.7131 - mae: 1.7131\n",
      "Epoch 100/100\n",
      "1/1 [==============================] - 0s 10ms/step - loss: 1.6832 - mae: 1.6832\n"
     ]
    },
    {
     "data": {
      "text/plain": [
       "<keras.callbacks.History at 0x10b177b50>"
      ]
     },
     "execution_count": 7,
     "metadata": {},
     "output_type": "execute_result"
    }
   ],
   "source": [
    "# create model\n",
    "model1 = tf.keras.Sequential([\n",
    "    #tf.keras.layers.Dense(100, activation=\"relu\"),\n",
    "    #tf.keras.layers.Dense(100, activation=\"relu\"),\n",
    "    tf.keras.layers.Dense(50, activation=\"relu\"),\n",
    "    tf.keras.layers.Dense(1)\n",
    "])\n",
    "\n",
    "# compile model\n",
    "model1.compile(loss=tf.keras.losses.mae,\n",
    "            optimizer = tf.keras.optimizers.Adam(lr=0.01),\n",
    "            metrics = [\"mae\"])\n",
    "\n",
    "model1.fit(tf.expand_dims(X, axis=-1),y , epochs=100)"
   ]
  },
  {
   "cell_type": "code",
   "execution_count": 8,
   "metadata": {},
   "outputs": [
    {
     "data": {
      "text/plain": [
       "array([[61.920444]], dtype=float32)"
      ]
     },
     "execution_count": 8,
     "metadata": {},
     "output_type": "execute_result"
    }
   ],
   "source": [
    "model1.predict([32.])"
   ]
  },
  {
   "cell_type": "code",
   "execution_count": 9,
   "metadata": {},
   "outputs": [],
   "source": [
    "X = tf.cast(tf.range(-100, 100, 4), dtype = tf.float32)\n",
    "y = X + 10"
   ]
  },
  {
   "cell_type": "code",
   "execution_count": 10,
   "metadata": {},
   "outputs": [
    {
     "data": {
      "text/plain": [
       "<matplotlib.legend.Legend at 0x16840c700>"
      ]
     },
     "execution_count": 10,
     "metadata": {},
     "output_type": "execute_result"
    },
    {
     "data": {
      "image/png": "[encoded data removed]",
      "text/plain": [
       "<Figure size 432x288 with 1 Axes>"
      ]
     },
     "metadata": {
      "needs_background": "light"
     },
     "output_type": "display_data"
    }
   ],
   "source": [
    "X_train = X[:40]\n",
    "X_test = X[40:]\n",
    "y_train = y[:40]\n",
    "y_test = y[40:]\n",
    "plt.scatter(X_train,y_train)\n",
    "plt.scatter(X_test, y_test)\n",
    "plt.legend([\"test\", \"train\"])"
   ]
  },
  {
   "cell_type": "code",
   "execution_count": 40,
   "metadata": {},
   "outputs": [
    {
     "name": "stderr",
     "output_type": "stream",
     "text": [
      "/Users/korzeniewski/opt/anaconda3/envs/neural_net/lib/python3.9/site-packages/keras/optimizer_v2/adam.py:105: UserWarning: The `lr` argument is deprecated, use `learning_rate` instead.\n",
      "  super(Adam, self).__init__(name, **kwargs)\n"
     ]
    },
    {
     "data": {
      "text/plain": [
       "<keras.callbacks.History at 0x16bca5c70>"
      ]
     },
     "execution_count": 40,
     "metadata": {},
     "output_type": "execute_result"
    }
   ],
   "source": [
    "# create model\n",
    "model1 = tf.keras.Sequential([\n",
    "    tf.keras.layers.Dense(50, activation=\"relu\", name=\"input_layer\"),\n",
    "    tf.keras.layers.Dense(1, name=\"output_layer\")\n",
    "\n",
    "])\n",
    "\n",
    "# compile model\n",
    "model1.compile(loss=tf.keras.losses.mae,\n",
    "            optimizer = tf.keras.optimizers.Adam(lr=0.01),\n",
    "            metrics = [\"mae\"])\n",
    "\n",
    "model1.fit(tf.expand_dims(X_train, axis=1),y_train , epochs=100, verbose = 0)"
   ]
  },
  {
   "cell_type": "code",
   "execution_count": 41,
   "metadata": {},
   "outputs": [
    {
     "name": "stdout",
     "output_type": "stream",
     "text": [
      "Model: \"sequential_7\"\n",
      "_________________________________________________________________\n",
      " Layer (type)                Output Shape              Param #   \n",
      "=================================================================\n",
      " input_layer (Dense)         (None, 50)                100       \n",
      "                                                                 \n",
      " output_layer (Dense)        (None, 1)                 51        \n",
      "                                                                 \n",
      "=================================================================\n",
      "Total params: 151\n",
      "Trainable params: 151\n",
      "Non-trainable params: 0\n",
      "_________________________________________________________________\n"
     ]
    }
   ],
   "source": [
    "model1.summary()"
   ]
  },
  {
   "cell_type": "code",
   "execution_count": 42,
   "metadata": {},
   "outputs": [
    {
     "data": {
      "image/png": "[encoded data removed]",
      "text/plain": [
       "<IPython.core.display.Image object>"
      ]
     },
     "execution_count": 42,
     "metadata": {},
     "output_type": "execute_result"
    }
   ],
   "source": [
    "from tensorflow.keras.utils import plot_model\n",
    "\n",
    "plot_model(model = model1, show_shapes=True)"
   ]
  },
  {
   "cell_type": "code",
   "execution_count": 51,
   "metadata": {},
   "outputs": [
    {
     "name": "stdout",
     "output_type": "stream",
     "text": [
      "tf.Tensor(0.4775688, shape=(), dtype=float32)\n"
     ]
    }
   ],
   "source": [
    "pred = model1.predict(X_test)\n",
    "MAE = tf.reduce_sum(tf.abs(tf.expand_dims(y_test, axis=-1) - tf.constant(pred)))/pred.shape[0]\n",
    "print(MAE)"
   ]
  },
  {
   "cell_type": "code",
   "execution_count": 44,
   "metadata": {},
   "outputs": [
    {
     "data": {
      "text/plain": [
       "<matplotlib.collections.PathCollection at 0x16bdc15b0>"
      ]
     },
     "execution_count": 44,
     "metadata": {},
     "output_type": "execute_result"
    },
    {
     "data": {
      "image/png": "[encoded data removed]",
      "text/plain": [
       "<Figure size 432x288 with 1 Axes>"
      ]
     },
     "metadata": {
      "needs_background": "light"
     },
     "output_type": "display_data"
    }
   ],
   "source": [
    "plt.scatter(X_test, y_test)\n",
    "plt.scatter(X_test, pred)"
   ]
  },
  {
   "cell_type": "code",
   "execution_count": 70,
   "metadata": {},
   "outputs": [
    {
     "name": "stdout",
     "output_type": "stream",
     "text": [
      "tf.Tensor(0.4775688, shape=(), dtype=float32)\n",
      "tf.Tensor(0.24378845, shape=(), dtype=float32)\n"
     ]
    }
   ],
   "source": [
    "print(tf.keras.losses.MAE(tf.squeeze(pred), y_test))\n",
    "print(tf.keras.losses.MSE(tf.squeeze(pred), y_test))\n"
   ]
  },
  {
   "cell_type": "code",
   "execution_count": null,
   "metadata": {},
   "outputs": [],
   "source": [
    " "
   ]
  },
  {
   "cell_type": "code",
   "execution_count": null,
   "metadata": {},
   "outputs": [],
   "source": []
  },
  {
   "cell_type": "code",
   "execution_count": null,
   "metadata": {},
   "outputs": [],
   "source": []
  }
 ],
 "metadata": {
  "kernelspec": {
   "display_name": "Python 3.9.13 ('neural_net')",
   "language": "python",
   "name": "python3"
  },
  "language_info": {
   "codemirror_mode": {
    "name": "ipython",
    "version": 3
   },
   "file_extension": ".py",
   "mimetype": "text/x-python",
   "name": "python",
   "nbconvert_exporter": "python",
   "pygments_lexer": "ipython3",
   "version": "3.9.13"
  },
  "orig_nbformat": 4,
  "vscode": {
   "interpreter": {
    "hash": "d18e5bff9cd1c587ed392a0b9847d79ae9faffcfc6182f6c5dab79d5f8ed71a2"
   }
  }
 },
 "nbformat": 4,
 "nbformat_minor": 2
}
